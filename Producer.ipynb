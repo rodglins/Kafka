{
  "nbformat": 4,
  "nbformat_minor": 0,
  "metadata": {
    "colab": {
      "name": "Producer.ipynb",
      "provenance": []
    },
    "kernelspec": {
      "name": "python3",
      "display_name": "Python 3"
    }
  },
  "cells": [
    {
      "cell_type": "code",
      "metadata": {
        "colab": {
          "base_uri": "https://localhost:8080/"
        },
        "id": "DWeRO4SdEVW9",
        "outputId": "d8e97fd0-bd50-4f7c-8d4b-fafabf4cbafb"
      },
      "source": [
        "!pip install confluent_kafka"
      ],
      "execution_count": 1,
      "outputs": [
        {
          "output_type": "stream",
          "name": "stdout",
          "text": [
            "Requirement already satisfied: confluent_kafka in /usr/local/lib/python3.7/dist-packages (1.7.0)\n"
          ]
        }
      ]
    },
    {
      "cell_type": "code",
      "metadata": {
        "colab": {
          "base_uri": "https://localhost:8080/"
        },
        "id": "P_X71RFmEeez",
        "outputId": "26af4c05-d934-4389-8085-5a24ee9e6f46"
      },
      "source": [
        "import sys\n",
        "import os\n",
        "\n",
        "from confluent_kafka import Producer\n",
        "\n",
        "def delivery_callback(err, msg):\n",
        "    if err:\n",
        "        print('%% Message failed delivery: %s\\n', err)\n",
        "    else:\n",
        "        print('%% Message delivered to %s [%d]\\n',\n",
        "                          (msg.topic(), msg.partition()))\n",
        "\n",
        "def createTopic():\n",
        "    print(\"init\");\n",
        "\n",
        "    topic = 'qtqeeXXX-default'\n",
        "    # XXX senha secreta, crie a sua\n",
        "    conf = {\n",
        "        'bootstrap.servers': 'dory-01.srvs.cloudkafka.com:9094,dory-02.srvs.cloudkafka.com:9094,dory-03.srvs.cloudkafka.com:9094',\n",
        "        'session.timeout.ms': 6000,\n",
        "        'default.topic.config': {'auto.offset.reset': 'smallest'},\n",
        "        'security.protocol': 'SASL_SSL',\n",
        "\t'sasl.mechanisms': 'SCRAM-SHA-256',\n",
        "        'sasl.username': 'qtqeeXXX',\n",
        "        'sasl.password': 'euoE0gXG4L9wbTbiaN7I9UP-XXX'\n",
        "    }\n",
        "\n",
        "    p = Producer(conf)\n",
        "\n",
        "    try:\n",
        "        p.produce(topic, \"este eh um teste 4 de mensagem utilizando o Kafka\", callback=delivery_callback)\n",
        "    except BufferError as e:\n",
        "        print('%% Local producer queue is full (%d messages awaiting delivery): try again\\n',\n",
        "                          len(p))\n",
        "    p.poll(0)\n",
        "\n",
        "    print('%% Waiting for %d deliveries\\n' % len(p))\n",
        "    p.flush()\n",
        "\n",
        "createTopic();"
      ],
      "execution_count": 7,
      "outputs": [
        {
          "output_type": "stream",
          "name": "stdout",
          "text": [
            "init\n",
            "% Waiting for 1 deliveries\n",
            "\n",
            "%% Message delivered to %s [%d]\n",
            " ('qtqeeq9t-default', 4)\n"
          ]
        }
      ]
    }
  ]
}