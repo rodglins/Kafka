{
  "nbformat": 4,
  "nbformat_minor": 0,
  "metadata": {
    "colab": {
      "name": "Consumer.ipynb",
      "provenance": [],
      "collapsed_sections": []
    },
    "kernelspec": {
      "name": "python3",
      "display_name": "Python 3"
    }
  },
  "cells": [
    {
      "cell_type": "code",
      "metadata": {
        "colab": {
          "base_uri": "https://localhost:8080/"
        },
        "id": "axGfpy9OH595",
        "outputId": "64cc63c5-f5d0-4d39-8eb9-15b894d32e12"
      },
      "source": [
        "!pip install confluent_kafka"
      ],
      "execution_count": null,
      "outputs": [
        {
          "output_type": "stream",
          "name": "stdout",
          "text": [
            "Requirement already satisfied: confluent_kafka in /usr/local/lib/python3.7/dist-packages (1.7.0)\n"
          ]
        }
      ]
    },
    {
      "cell_type": "code",
      "metadata": {
        "colab": {
          "base_uri": "https://localhost:8080/"
        },
        "id": "aT7mYbrQISIW",
        "outputId": "82a7bb6d-b36a-4ad0-ee59-9e3201df72b4"
      },
      "source": [
        "import sys\n",
        "import os\n",
        "\n",
        "from confluent_kafka import Consumer, KafkaException, KafkaError\n",
        "\n",
        "def createConsumer():\n",
        "\n",
        "    topics = ['qtqeeXXX-default']\n",
        "    # XXX == senha secreta, crie a sua\n",
        "    conf = {\n",
        "        'bootstrap.servers': 'dory-01.srvs.cloudkafka.com:9094,dory-02.srvs.cloudkafka.com:9094,dory-03.srvs.cloudkafka.com:9094',\n",
        "        'group.id': \"%s-consumer\" % 'qtqeeXXX',\n",
        "        'session.timeout.ms': 6000,\n",
        "        'default.topic.config': {'auto.offset.reset': 'smallest'},\n",
        "        'security.protocol': 'SASL_SSL',\n",
        "\t'sasl.mechanisms': 'SCRAM-SHA-256',\n",
        "        'sasl.username': 'qtqeeXXX',\n",
        "        'sasl.password': 'euoE0gXG4L9wbTbiaN7I9UP-XXX'\n",
        "    }\n",
        "\n",
        "    c = Consumer(conf)\n",
        "    c.subscribe(topics)\n",
        "    try:\n",
        "        while True:\n",
        "            msg = c.poll(timeout=1.0)\n",
        "            if msg is None:\n",
        "                continue\n",
        "            if msg.error():\n",
        "                # Error or event\n",
        "                if msg.error().code() == KafkaError._PARTITION_EOF:\n",
        "                    # End of partition event\n",
        "                    sys.stderr.write('%% %s [%d] reached end at offset %d\\n' %\n",
        "                                     (msg.topic(), msg.partition(), msg.offset()))\n",
        "                elif msg.error():\n",
        "                    # Error\n",
        "                    raise KafkaException(msg.error())\n",
        "            else:\n",
        "                # Proper message\n",
        "                sys.stderr.write('%% %s [%d] at offset %d with key %s:\\n' %\n",
        "                                 (msg.topic(), msg.partition(), msg.offset(),\n",
        "                                  str(msg.key())))\n",
        "                print(msg.value())\n",
        "\n",
        "    except KeyboardInterrupt:\n",
        "        sys.stderr.write('%% Aborted by user\\n')\n",
        "\n",
        "    # Close down consumer to commit final offsets.\n",
        "    c.close()\n",
        "\n",
        "createConsumer()"
      ],
      "execution_count": null,
      "outputs": [
        {
          "output_type": "stream",
          "name": "stderr",
          "text": [
            "% qtqeeq9t-default [1] at offset 0 with key None:\n"
          ]
        },
        {
          "output_type": "stream",
          "name": "stdout",
          "text": [
            "b'este eh um teste de mensagem utilizando o Kafka'\n"
          ]
        },
        {
          "output_type": "stream",
          "name": "stderr",
          "text": [
            "% qtqeeq9t-default [2] at offset 1 with key None:\n"
          ]
        },
        {
          "output_type": "stream",
          "name": "stdout",
          "text": [
            "b'este eh um teste 2 de mensagem utilizando o Kafka'\n"
          ]
        },
        {
          "output_type": "stream",
          "name": "stderr",
          "text": [
            "% qtqeeq9t-default [4] at offset 0 with key None:\n"
          ]
        },
        {
          "output_type": "stream",
          "name": "stdout",
          "text": [
            "b'este eh um teste 3 de mensagem utilizando o Kafka'\n"
          ]
        },
        {
          "output_type": "stream",
          "name": "stderr",
          "text": [
            "% qtqeeq9t-default [4] at offset 1 with key None:\n"
          ]
        },
        {
          "output_type": "stream",
          "name": "stdout",
          "text": [
            "b'este eh um teste 4 de mensagem utilizando o Kafka'\n"
          ]
        },
        {
          "output_type": "stream",
          "name": "stderr",
          "text": [
            "%% Aborted by user\n"
          ]
        }
      ]
    }
  ]
}